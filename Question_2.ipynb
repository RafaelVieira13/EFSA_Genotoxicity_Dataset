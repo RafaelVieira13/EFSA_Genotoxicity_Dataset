{
 "cells": [
  {
   "cell_type": "code",
   "execution_count": null,
   "id": "7b05f93d",
   "metadata": {},
   "outputs": [],
   "source": []
  },
  {
   "cell_type": "code",
   "execution_count": null,
   "id": "130fe358",
   "metadata": {},
   "outputs": [],
   "source": []
  },
  {
   "cell_type": "markdown",
   "id": "918de5ee",
   "metadata": {},
   "source": [
    "__2. Since 2021 IUCLID is used for the e-submission of pesticides applications to EFSA (see this video). In the public instance of IUCLID you can find the dossier for the pesticide Fluometuron. Focusing on the active substance dataset included in this dossier: Active substance Fluometuron, please reply to the following questions:__"
   ]
  },
  {
   "cell_type": "markdown",
   "id": "59f66de0",
   "metadata": {},
   "source": [
    "a. How many in vitro studies for genetic toxicity have been provided for the active substance fluometuron? How many are considered ‘key studies’? Do you think these key studies can be considered reliable (justify your answer)? "
   ]
  },
  {
   "cell_type": "code",
   "execution_count": null,
   "id": "183950d1",
   "metadata": {},
   "outputs": [],
   "source": []
  },
  {
   "cell_type": "markdown",
   "id": "21d4b943",
   "metadata": {},
   "source": [
    "b. Which endpoints have been measured in these studies?"
   ]
  },
  {
   "cell_type": "code",
   "execution_count": null,
   "id": "eff882c2",
   "metadata": {},
   "outputs": [],
   "source": []
  },
  {
   "cell_type": "markdown",
   "id": "cd65f753",
   "metadata": {},
   "source": [
    "c. Choose one of the key in vitro studies and provide a short summary of the materials and methods used and the results obtained (max. 100 words). "
   ]
  },
  {
   "cell_type": "code",
   "execution_count": null,
   "id": "0183e498",
   "metadata": {},
   "outputs": [],
   "source": []
  },
  {
   "cell_type": "markdown",
   "id": "2f71a6de",
   "metadata": {},
   "source": [
    "d.What is the summary conclusion for in vitro genotoxicity of this active substance (justify your answer)? Is this conclusion different for in vivo studies?"
   ]
  },
  {
   "cell_type": "code",
   "execution_count": null,
   "id": "2962d693",
   "metadata": {},
   "outputs": [],
   "source": []
  },
  {
   "cell_type": "code",
   "execution_count": null,
   "id": "3ca75e81",
   "metadata": {},
   "outputs": [],
   "source": []
  }
 ],
 "metadata": {
  "kernelspec": {
   "display_name": "Python 3 (ipykernel)",
   "language": "python",
   "name": "python3"
  },
  "language_info": {
   "codemirror_mode": {
    "name": "ipython",
    "version": 3
   },
   "file_extension": ".py",
   "mimetype": "text/x-python",
   "name": "python",
   "nbconvert_exporter": "python",
   "pygments_lexer": "ipython3",
   "version": "3.9.13"
  }
 },
 "nbformat": 4,
 "nbformat_minor": 5
}
